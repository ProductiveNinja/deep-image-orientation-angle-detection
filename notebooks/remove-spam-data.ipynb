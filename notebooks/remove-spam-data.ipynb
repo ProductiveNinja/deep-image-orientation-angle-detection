{
 "cells": [
  {
   "cell_type": "code",
   "execution_count": 7,
   "id": "e4836bb9",
   "metadata": {},
   "outputs": [],
   "source": [
    "import glob\n",
    "from tqdm import tqdm\n",
    "import os\n",
    "import cv2"
   ]
  },
  {
   "cell_type": "code",
   "execution_count": 13,
   "id": "8a5426b0",
   "metadata": {},
   "outputs": [
    {
     "data": {
      "text/plain": [
       "118286"
      ]
     },
     "execution_count": 13,
     "metadata": {},
     "output_type": "execute_result"
    }
   ],
   "source": [
    "files = glob.glob(\"/data/subhadip/data/train2017_Resize/*.jpg\")\n",
    "len(files)"
   ]
  },
  {
   "cell_type": "code",
   "execution_count": 9,
   "id": "5dd13933",
   "metadata": {},
   "outputs": [
    {
     "name": "stderr",
     "output_type": "stream",
     "text": [
      "100%|████████████████████████████████████████████████████████████████████████████████████████████████████████████████████████████████████| 118287/118287 [06:15<00:00, 315.35it/s]\n"
     ]
    }
   ],
   "source": [
    "spam = []\n",
    "for f in tqdm(files):\n",
    "    img = cv2.imread(f)\n",
    "    if img is None:\n",
    "        spam.append(f)"
   ]
  },
  {
   "cell_type": "code",
   "execution_count": 12,
   "id": "53ad5eb4",
   "metadata": {},
   "outputs": [
    {
     "data": {
      "text/plain": [
       "118287"
      ]
     },
     "execution_count": 12,
     "metadata": {},
     "output_type": "execute_result"
    }
   ],
   "source": [
    "for s in spam:\n",
    "    os.remove(s)\n",
    "    \n",
    "len(files)"
   ]
  },
  {
   "cell_type": "code",
   "execution_count": null,
   "id": "b5e3dbe7",
   "metadata": {},
   "outputs": [],
   "source": []
  }
 ],
 "metadata": {
  "kernelspec": {
   "display_name": "Python 3 (ipykernel)",
   "language": "python",
   "name": "python3"
  },
  "language_info": {
   "codemirror_mode": {
    "name": "ipython",
    "version": 3
   },
   "file_extension": ".py",
   "mimetype": "text/x-python",
   "name": "python",
   "nbconvert_exporter": "python",
   "pygments_lexer": "ipython3",
   "version": "3.7.11"
  }
 },
 "nbformat": 4,
 "nbformat_minor": 5
}
