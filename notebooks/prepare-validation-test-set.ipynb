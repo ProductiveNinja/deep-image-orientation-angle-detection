{
 "cells": [
  {
   "cell_type": "code",
   "execution_count": 1,
   "id": "e79b75d2",
   "metadata": {},
   "outputs": [],
   "source": [
    "# import libraries\n",
    "import os\n",
    "import glob\n",
    "import numpy as np\n",
    "import pandas as pd"
   ]
  },
  {
   "cell_type": "code",
   "execution_count": 2,
   "id": "1c14a24f",
   "metadata": {},
   "outputs": [],
   "source": [
    "# get file paths\n",
    "files = [f.split(\"/\")[-1] for f in glob.glob(\"/data/subhadip/hard-validation-test/*.jpg\")]"
   ]
  },
  {
   "cell_type": "code",
   "execution_count": 3,
   "id": "a6b44a29",
   "metadata": {},
   "outputs": [
    {
     "data": {
      "text/html": [
       "<div>\n",
       "<style scoped>\n",
       "    .dataframe tbody tr th:only-of-type {\n",
       "        vertical-align: middle;\n",
       "    }\n",
       "\n",
       "    .dataframe tbody tr th {\n",
       "        vertical-align: top;\n",
       "    }\n",
       "\n",
       "    .dataframe thead th {\n",
       "        text-align: right;\n",
       "    }\n",
       "</style>\n",
       "<table border=\"1\" class=\"dataframe\">\n",
       "  <thead>\n",
       "    <tr style=\"text-align: right;\">\n",
       "      <th></th>\n",
       "      <th>image</th>\n",
       "      <th>angle</th>\n",
       "      <th>mode</th>\n",
       "    </tr>\n",
       "  </thead>\n",
       "  <tbody>\n",
       "    <tr>\n",
       "      <th>0</th>\n",
       "      <td>000000245123.jpg</td>\n",
       "      <td>82.0</td>\n",
       "      <td>test</td>\n",
       "    </tr>\n",
       "    <tr>\n",
       "      <th>1</th>\n",
       "      <td>000000152234.jpg</td>\n",
       "      <td>120.0</td>\n",
       "      <td>test</td>\n",
       "    </tr>\n",
       "    <tr>\n",
       "      <th>2</th>\n",
       "      <td>000000507772.jpg</td>\n",
       "      <td>131.0</td>\n",
       "      <td>test</td>\n",
       "    </tr>\n",
       "    <tr>\n",
       "      <th>3</th>\n",
       "      <td>000000325212.jpg</td>\n",
       "      <td>223.0</td>\n",
       "      <td>test</td>\n",
       "    </tr>\n",
       "    <tr>\n",
       "      <th>4</th>\n",
       "      <td>000000299049.jpg</td>\n",
       "      <td>21.0</td>\n",
       "      <td>test</td>\n",
       "    </tr>\n",
       "  </tbody>\n",
       "</table>\n",
       "</div>"
      ],
      "text/plain": [
       "              image  angle  mode\n",
       "0  000000245123.jpg   82.0  test\n",
       "1  000000152234.jpg  120.0  test\n",
       "2  000000507772.jpg  131.0  test\n",
       "3  000000325212.jpg  223.0  test\n",
       "4  000000299049.jpg   21.0  test"
      ]
     },
     "execution_count": 3,
     "metadata": {},
     "output_type": "execute_result"
    }
   ],
   "source": [
    "# create table\n",
    "df = pd.DataFrame({\"image\": files})\n",
    "np.random.seed(20)\n",
    "df[\"angle\"] = np.random.choice(range(360), size=df.shape[0])\n",
    "df[\"angle\"] = df[\"angle\"].astype(\"float32\")\n",
    "\n",
    "test_count = int(min(1500, df.shape[0]*0.5))\n",
    "df = df.sample(frac=1, random_state=20).reset_index(drop=True)\n",
    "df[\"mode\"] = [\"test\"] * test_count + [\"valid\"] * (df.shape[0] - test_count)\n",
    "df.head()"
   ]
  },
  {
   "cell_type": "code",
   "execution_count": 4,
   "id": "8849dbe3",
   "metadata": {},
   "outputs": [],
   "source": [
    "# save data\n",
    "df.to_csv(\"/data/subhadip/hard-validation-test.csv\", index=False)"
   ]
  },
  {
   "cell_type": "code",
   "execution_count": null,
   "id": "27b212f7",
   "metadata": {},
   "outputs": [],
   "source": []
  }
 ],
 "metadata": {
  "kernelspec": {
   "display_name": "Python 3 (ipykernel)",
   "language": "python",
   "name": "python3"
  },
  "language_info": {
   "codemirror_mode": {
    "name": "ipython",
    "version": 3
   },
   "file_extension": ".py",
   "mimetype": "text/x-python",
   "name": "python",
   "nbconvert_exporter": "python",
   "pygments_lexer": "ipython3",
   "version": "3.8.5"
  }
 },
 "nbformat": 4,
 "nbformat_minor": 5
}
